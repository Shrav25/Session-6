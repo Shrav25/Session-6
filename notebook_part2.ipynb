{
 "cells": [
  {
   "cell_type": "markdown",
   "metadata": {},
   "source": [
    "#Q1 - Write a function using only list filter lambda that can tell whether a number is a Fibonacci number or not. You can use a pre-calculated list/dict to store fab numbers till 10000 "
   ]
  },
  {
   "cell_type": "code",
   "execution_count": 209,
   "metadata": {},
   "outputs": [],
   "source": [
    "def fibonacci(x:int):\n",
    "    \n",
    "    '''Function takes in positive integer value\n",
    "    #fibonacci - creates a list of fibonacci numbers\n",
    "    #check - To see if the number is fibonacci or not\n",
    "    fibo_check - Will use filter function and give the output as list'''\n",
    "    \n",
    "    fibonacci = lambda number: number if number <= 1 else fibonacci(number - 1) + fibonacci(number - 2)\n",
    "    listOfFibonacciNumbers = list(map(fibonacci, range(0, 30, 1)))\n",
    "    print(listOfFibonacciNumbers) #list of Fibonacci numbers till 10000\n",
    "    \n",
    "    check = lambda a: (print(f'Its a Fibonacci Number:{a}')) if a in listOfFibonacciNumbers else print(f'Its Not a Fibonacci Number: {a}')\n",
    "    \n",
    "    fibo_check = list(filter(check,range(0,x)))\n",
    "    \n",
    "    return fibo_check"
   ]
  },
  {
   "cell_type": "code",
   "execution_count": 221,
   "metadata": {},
   "outputs": [
    {
     "name": "stdout",
     "output_type": "stream",
     "text": [
      "[0, 1, 1, 2, 3, 5, 8, 13, 21, 34, 55, 89, 144, 233, 377, 610, 987, 1597, 2584, 4181, 6765, 10946, 17711, 28657, 46368, 75025, 121393, 196418, 317811, 514229]\n",
      "Its a Fibonacci Number:0\n",
      "Its a Fibonacci Number:1\n",
      "Its a Fibonacci Number:2\n",
      "Its a Fibonacci Number:3\n",
      "Its Not a Fibonacci Number: 4\n",
      "Its a Fibonacci Number:5\n",
      "Its Not a Fibonacci Number: 6\n",
      "Its Not a Fibonacci Number: 7\n",
      "Its a Fibonacci Number:8\n",
      "Its Not a Fibonacci Number: 9\n"
     ]
    },
    {
     "data": {
      "text/plain": [
       "[]"
      ]
     },
     "execution_count": 221,
     "metadata": {},
     "output_type": "execute_result"
    }
   ],
   "source": [
    "fibonacci(10)"
   ]
  },
  {
   "cell_type": "markdown",
   "metadata": {},
   "source": [
    "Using reduce function - add only even numbers in a list"
   ]
  },
  {
   "cell_type": "code",
   "execution_count": 134,
   "metadata": {},
   "outputs": [
    {
     "name": "stdout",
     "output_type": "stream",
     "text": [
      "30\n"
     ]
    }
   ],
   "source": [
    "from functools import reduce\n",
    "list111=[1,2,3,4,5,6,7,8,9,10]\n",
    "\n",
    "def sum_even(a:int, b:int):\n",
    "    '''Function will take two positive integer positional arguements a,b\n",
    "    And return the sum of the even values(a,b) between the range\n",
    "    We later use this function to pass it through \"reduce\" function to get our output'''\n",
    "    \n",
    "    return sum(range(a + a%2, b+1, 2))\n",
    "\n",
    "add_even = reduce(sum_even, list111)\n",
    "'''The reduce(fun,seq) function is used to apply a particular function passed in its argument to all of the list elements mentioned in the sequence passed along.\n",
    "This function is defined in “functools” module'''\n",
    "\n",
    "print(add_even)"
   ]
  },
  {
   "cell_type": "code",
   "execution_count": 223,
   "metadata": {},
   "outputs": [
    {
     "data": {
      "text/plain": [
       "90"
      ]
     },
     "execution_count": 223,
     "metadata": {},
     "output_type": "execute_result"
    }
   ],
   "source": [
    "sum_even(10,20)"
   ]
  },
  {
   "cell_type": "markdown",
   "metadata": {},
   "source": [
    "find the biggest character in a string (printable ASCII characters)"
   ]
  },
  {
   "cell_type": "code",
   "execution_count": 224,
   "metadata": {},
   "outputs": [],
   "source": [
    "from functools import reduce"
   ]
  },
  {
   "cell_type": "code",
   "execution_count": 225,
   "metadata": {},
   "outputs": [],
   "source": [
    "def big_charac(string='abcd') ->'str':\n",
    "    \n",
    "    '''Function will take any length string character as input\n",
    "    The string is passed through a reduce function which will iterate through each character and get the,\n",
    "    largest ASCII character value'''\n",
    "    \n",
    "    max_value = lambda a, b: a if a > b else b #Using lambda we get the largest between two values\n",
    "    maximum = reduce(max_value, string)\n",
    "    return(f'The Biggest Character in the string is: {maximum}')"
   ]
  },
  {
   "cell_type": "code",
   "execution_count": 226,
   "metadata": {},
   "outputs": [
    {
     "data": {
      "text/plain": [
       "'The Biggest Character in the string is: d'"
      ]
     },
     "execution_count": 226,
     "metadata": {},
     "output_type": "execute_result"
    }
   ],
   "source": [
    "big_charac()"
   ]
  },
  {
   "cell_type": "markdown",
   "metadata": {},
   "source": [
    "\n",
    "#Add Every 3rd Number in the List"
   ]
  },
  {
   "cell_type": "code",
   "execution_count": 227,
   "metadata": {},
   "outputs": [],
   "source": [
    "def add_third(x=20):\n",
    "    '''Function will take a range a positive integers.\n",
    "    using lambda sum of every third element in the above range is added.\n",
    "    The same is passed through reduce functionto get a aggregated value'''\n",
    "    \n",
    "    l1=list(range(x)) #range of positive integers\n",
    "    add_three= lambda a,b: sum(range(a,b,3)) #sum every third element in the list\n",
    "    three = reduce(add_three,l1) #iterate the add_three function through the above range and aggregate the value\n",
    "    return(f'The sum of every third element in the list: {three}')"
   ]
  },
  {
   "cell_type": "code",
   "execution_count": 228,
   "metadata": {},
   "outputs": [
    {
     "data": {
      "text/plain": [
       "'The sum of every third element in the list: 63'"
      ]
     },
     "execution_count": 228,
     "metadata": {},
     "output_type": "execute_result"
    }
   ],
   "source": [
    "add_third()"
   ]
  },
  {
   "cell_type": "markdown",
   "metadata": {},
   "source": [
    "A list comprehension expression that takes a ~200-word paragraph, \n",
    "and checks whether it has any of the swear words mentioned in the list."
   ]
  },
  {
   "cell_type": "code",
   "execution_count": 229,
   "metadata": {},
   "outputs": [
    {
     "name": "stdout",
     "output_type": "stream",
     "text": [
      "['breasts', 'bloody', 'bloody', 'bloody', 'hell', 'bloody']\n"
     ]
    }
   ],
   "source": [
    "paragraph='''Swearing and taboo terms are utilised in the everyday communication and language of Australian people. In different social groups, profanities deviate from their standard functions to consolidate membership between the group’s participants. Swear words which are specifically chosen to support their function has the ability to attract attention, controversy and a response to an advertisement or commercial from the targeted audience. Moreover, swearing has a function in the expression of emotions, both positive and negative, to intensify, vent or reveal the feelings of its users.\n",
    "Swearing reinforces in-group solidarity and rapport between social groups in Australia. Teenagers often employ lexemes which are regarded as profane and offensive in nature as a means of differentiating themselves from older generations. Terms which usually function as ones of offense or abuse are typically utilised with the non-standard personal pronoun ‘ya’, as in ‘ya sick c*nt’ and ‘ya dickhead’ as terms of endearment or even compliments between group members. Similarly, lexemes regarded by the wider community as politically incorrect or racist, such as ‘nigger’ can used within groups with different denotations and connotations to their original meaning. ‘Nigger’ can be used to describe a person, not necessarily of African descent, in a positive, friendly light, such as in the highly elliptic internet meme ‘He white, but he still my nigger’. The semantic change the lexeme has undergone is similar to the shift a word like ‘bugger’ – from a highly insulting or hurtful term, designed to offend, to one which can also be utilised as a friendly term of address. Australian tradesman or ‘tradies’ exemplify another group whose in-group language possesses an ‘excessive’ amount of swearing. However, the swear words, far from being abusive or rude, are “a tool used for building and maintaining positive affiliations between members of this unique culture.[1]” The use of profanities, specifically ‘f*ck’ and ‘c*nt’, amongst the tradesmen, as well as other ‘blue-collar’ workers is commonly associated with in-group membership. The swear words used by older tradesmen will in turn influence the language of the newly employed, who adjust and accommodate their language appropriately to suit the social context. In order to minimise the social distance between interlocutors and adhere to the ‘Communication Accommodation Theory’, swear or taboo terms will be employed by the members of various social groups.\n",
    "The utilisation of profanities in Australia’s advertising industry provides a controversial, yet memorable impression on their audience and future buyers. The recent billboard campaign of the underwear manufacturer ‘Bonds’ revealed the single word ‘BOOBS’ to promote their new bra range. This Australian vernacular for a woman’s breasts is still a sensitive topic for most, resulting in a ‘shock-factor’ and memorability for potential buyers driving past. This word association is comparable to the English clothing brand FCUK, an initialism standing for French Connection United Kingdom with similarities with the lexeme ‘f*ck’. These campaigns are intended to be provocative, with the man behind the controversial ‘Don’t be a Dickhead’ road safety advertisements saying that he is “pleased with the uproar created by the controversial campaign.[2]” Commercials and advertisements also have a communicative purpose. Swear words, due to their controversial nature, attract the attention of viewers, fulfilling the functions of the text. TAC’s ‘bloody idiot’ campaigns feature slogans such as ‘If you drink and drive, you’re a bloody idiot’ and ‘Just a little bit over? You bloody idiot’. Although the adjective ‘bloody’ and the noun ‘idiot’ are no longer considered to be a profanity, its usage and designed effect is still the same as a more taboo intensifier or insult. The stupidity of drink-driving and speeding are conveyed to drivers by the blunt dysphemisms, pun on the word ‘bloody’ and the attention-seeking use of ‘bloody idiot’ in the government’s attempt to discourage inconsiderate driving. TAC’s use of the modifier ‘bloody’ contrasts in purpose and effect to the Tourism Australia’s 2007 advertisement ‘So where the bloody hell are you?’ The popular Australian colloquialism, rather than being of shock value, encapsulates the informality and friendliness of Australians. The intensifier ‘the bloody hell’ reveals a lack of conservatism in the Australian language and is combined with the structural ambiguity of the catch-phrase to promote tourism. Profanities are implemented by the commercial industry in various ways, depending on nature and purpose, to attract the attention of readers and to communicate a wide range of information to them.\n",
    "Swearing also has the purpose of expressing the emotional state of its speaker. Expressions of frustration, stress or aggression are commonly associated with intensifying and emphasising negative emotions. Offensive name-calling is a form of emotive abusive language. Politically incorrect epithets such as ‘b*tch’, ‘c**ksucker’, ‘f*ggot’ and ‘f*ckhead’ are all heavily gender, race or sexually associative words, chosen to verbally maim the listener or topic during arguments. Online, abbreviations such as ‘WTF’ (what the f*ck), ‘FFS’ (for f*cks sake) and ‘GTFO’ (get the f*ck out) have been formed for internet users in chat forums, comment sections or posts to vent with profane exclamations of annoyance whilst being euphemistic and without having to explicitly type out the swear word. On the contrary, swearing is also used to emphasise positive feelings of surprise, joy or love. The lexeme ‘f*ck’ possesses extremely negative connotations. However, it can also modify a positive adjective to intensify the feeling, for example in the declaratives ‘That was f*cking awesome!’ or ‘I f*cking love it!’ This enthusiasm and passion for something is also shown through the recent prominence of online social network sites’ titled ‘F*ck Yeah [something]’, for example ‘F*ck Yeah Ryan Gosling’ or ‘F*ck Yeah 1920s!’The usage of the swear word highlights the extreme dedication, interest and enthusiasm, altering the original connotations of the lexeme. In these ways, swear words function as a means to communicate and reveal both positive and negative emotions between participants.\n",
    "The use of profanities are growing becoming prominent in contemporary Australian society due to the variety of roles they play in communication. Swear words are able to establish solidarity between social groups and provide an effective means of advertising and expression of emotions. These profane terms, though are not an essential part of language, truly defines modern society, its people and its culture.'''\n",
    "\n",
    "a='''4r5e\n",
    "5h1t\n",
    "5hit\n",
    "a55\n",
    "anal\n",
    "anus\n",
    "ar5e\n",
    "arrse\n",
    "arse\n",
    "ass\n",
    "ass-fucker\n",
    "asses\n",
    "assfucker\n",
    "assfukka\n",
    "asshole\n",
    "assholes\n",
    "asswhole\n",
    "a_s_s\n",
    "b!tch\n",
    "b00bs\n",
    "b17ch\n",
    "b1tch\n",
    "ballbag\n",
    "balls\n",
    "ballsack\n",
    "bastard\n",
    "beastial\n",
    "beastiality\n",
    "bellend\n",
    "bestial\n",
    "bestiality\n",
    "bi+ch\n",
    "biatch\n",
    "bitch\n",
    "bitcher\n",
    "bitchers\n",
    "bitches\n",
    "bitchin\n",
    "bitching\n",
    "bloody\n",
    "blow job\n",
    "blowjob\n",
    "blowjobs\n",
    "boiolas\n",
    "bollock\n",
    "bollok\n",
    "boner\n",
    "boob\n",
    "boobs\n",
    "booobs\n",
    "boooobs\n",
    "booooobs\n",
    "booooooobs\n",
    "breasts\n",
    "buceta\n",
    "bugger\n",
    "bum\n",
    "bunny fucker\n",
    "butt\n",
    "butthole\n",
    "buttmunch\n",
    "buttplug\n",
    "c0ck\n",
    "c0cksucker\n",
    "carpet muncher\n",
    "cawk\n",
    "chink\n",
    "cipa\n",
    "cl1t\n",
    "clit\n",
    "clitoris\n",
    "clits\n",
    "cnut\n",
    "cock\n",
    "cock-sucker\n",
    "cockface\n",
    "cockhead\n",
    "cockmunch\n",
    "cockmuncher\n",
    "cocks\n",
    "cocksuck \n",
    "cocksucked \n",
    "cocksucker\n",
    "cocksucking\n",
    "cocksucks \n",
    "cocksuka\n",
    "cocksukka\n",
    "cok\n",
    "cokmuncher\n",
    "coksucka\n",
    "coon\n",
    "cox\n",
    "crap\n",
    "cum\n",
    "cummer\n",
    "cumming\n",
    "cums\n",
    "cumshot\n",
    "cunilingus\n",
    "cunillingus\n",
    "cunnilingus\n",
    "cunt\n",
    "cuntlick \n",
    "cuntlicker \n",
    "cuntlicking \n",
    "cunts\n",
    "cyalis\n",
    "cyberfuc\n",
    "cyberfuck \n",
    "cyberfucked \n",
    "cyberfucker\n",
    "cyberfuckers\n",
    "cyberfucking \n",
    "d1ck\n",
    "damn\n",
    "dick\n",
    "dickhead\n",
    "dildo\n",
    "dildos\n",
    "dink\n",
    "dinks\n",
    "dirsa\n",
    "dlck\n",
    "dog-fucker\n",
    "doggin\n",
    "dogging\n",
    "donkeyribber\n",
    "doosh\n",
    "duche\n",
    "dyke\n",
    "ejaculate\n",
    "ejaculated\n",
    "ejaculates \n",
    "ejaculating \n",
    "ejaculatings\n",
    "ejaculation\n",
    "ejakulate\n",
    "f u c k\n",
    "f u c k e r\n",
    "f4nny\n",
    "fag\n",
    "fagging\n",
    "faggitt\n",
    "faggot\n",
    "faggs\n",
    "fagot\n",
    "fagots\n",
    "fags\n",
    "fanny\n",
    "fannyflaps\n",
    "fannyfucker\n",
    "fanyy\n",
    "fatass\n",
    "fcuk\n",
    "fcuker\n",
    "fcuking\n",
    "feck\n",
    "fecker\n",
    "felching\n",
    "fellate\n",
    "fellatio\n",
    "fingerfuck \n",
    "fingerfucked \n",
    "fingerfucker \n",
    "fingerfuckers\n",
    "fingerfucking \n",
    "fingerfucks \n",
    "fistfuck\n",
    "fistfucked \n",
    "fistfucker \n",
    "fistfuckers \n",
    "fistfucking \n",
    "fistfuckings \n",
    "fistfucks \n",
    "flange\n",
    "fook\n",
    "fooker\n",
    "fuck\n",
    "fucka\n",
    "fucked\n",
    "fucker\n",
    "fuckers\n",
    "fuckhead\n",
    "fuckheads\n",
    "fuckin\n",
    "fucking\n",
    "fuckings\n",
    "fuckingshitmotherfucker\n",
    "fuckme \n",
    "fucks\n",
    "fuckwhit\n",
    "fuckwit\n",
    "fudge packer\n",
    "fudgepacker\n",
    "fuk\n",
    "fuker\n",
    "fukker\n",
    "fukkin\n",
    "fuks\n",
    "fukwhit\n",
    "fukwit\n",
    "fux\n",
    "fux0r\n",
    "f_u_c_k\n",
    "gangbang\n",
    "gangbanged \n",
    "gangbangs \n",
    "gaylord\n",
    "gaysex\n",
    "goatse\n",
    "God\n",
    "god-dam\n",
    "god-damned\n",
    "goddamn\n",
    "goddamned\n",
    "hardcoresex \n",
    "hell\n",
    "heshe\n",
    "hoar\n",
    "hoare\n",
    "hoer\n",
    "homo\n",
    "hore\n",
    "horniest\n",
    "horny\n",
    "hotsex\n",
    "jack-off \n",
    "jackoff\n",
    "jap\n",
    "jerk-off \n",
    "jism\n",
    "jiz \n",
    "jizm \n",
    "jizz\n",
    "kawk\n",
    "knob\n",
    "knobead\n",
    "knobed\n",
    "knobend\n",
    "knobhead\n",
    "knobjocky\n",
    "knobjokey\n",
    "kock\n",
    "kondum\n",
    "kondums\n",
    "kum\n",
    "kummer\n",
    "kumming\n",
    "kums\n",
    "kunilingus\n",
    "l3i+ch\n",
    "l3itch\n",
    "labia\n",
    "lmfao\n",
    "lust\n",
    "lusting\n",
    "m0f0\n",
    "m0fo\n",
    "m45terbate\n",
    "ma5terb8\n",
    "ma5terbate\n",
    "masochist\n",
    "master-bate\n",
    "masterb8\n",
    "masterbat*\n",
    "masterbat3\n",
    "masterbate\n",
    "masterbation\n",
    "masterbations\n",
    "masturbate\n",
    "mo-fo\n",
    "mof0\n",
    "mofo\n",
    "mothafuck\n",
    "mothafucka\n",
    "mothafuckas\n",
    "mothafuckaz\n",
    "mothafucked \n",
    "mothafucker\n",
    "mothafuckers\n",
    "mothafuckin\n",
    "mothafucking \n",
    "mothafuckings\n",
    "mothafucks\n",
    "mother fucker\n",
    "motherfuck\n",
    "motherfucked\n",
    "motherfucker\n",
    "motherfuckers\n",
    "motherfuckin\n",
    "motherfucking\n",
    "motherfuckings\n",
    "motherfuckka\n",
    "motherfucks\n",
    "muff\n",
    "mutha\n",
    "muthafecker\n",
    "muthafuckker\n",
    "muther\n",
    "mutherfucker\n",
    "n1gga\n",
    "n1gger\n",
    "nazi\n",
    "nigg3r\n",
    "nigg4h\n",
    "nigga\n",
    "niggah\n",
    "niggas\n",
    "niggaz\n",
    "nigger\n",
    "niggers \n",
    "nob\n",
    "nob jokey\n",
    "nobhead\n",
    "nobjocky\n",
    "nobjokey\n",
    "numbnuts\n",
    "nutsack\n",
    "orgasim \n",
    "orgasims \n",
    "orgasm\n",
    "orgasms \n",
    "p0rn\n",
    "pawn\n",
    "pecker\n",
    "penis\n",
    "penisfucker\n",
    "phonesex\n",
    "phuck\n",
    "phuk\n",
    "phuked\n",
    "phuking\n",
    "phukked\n",
    "phukking\n",
    "phuks\n",
    "phuq\n",
    "pigfucker\n",
    "pimpis\n",
    "piss\n",
    "pissed\n",
    "pisser\n",
    "pissers\n",
    "pisses \n",
    "pissflaps\n",
    "pissin \n",
    "pissing\n",
    "pissoff \n",
    "poop\n",
    "porn\n",
    "porno\n",
    "pornography\n",
    "pornos\n",
    "prick\n",
    "pricks \n",
    "pron\n",
    "pube\n",
    "pusse\n",
    "pussi\n",
    "pussies\n",
    "pussy\n",
    "pussys \n",
    "rectum\n",
    "retard\n",
    "rimjaw\n",
    "rimming\n",
    "s hit\n",
    "s.o.b.\n",
    "sadist\n",
    "schlong\n",
    "screwing\n",
    "scroat\n",
    "scrote\n",
    "scrotum\n",
    "semen\n",
    "sex\n",
    "sh!+\n",
    "sh!t\n",
    "sh1t\n",
    "shag\n",
    "shagger\n",
    "shaggin\n",
    "shagging\n",
    "shemale\n",
    "shi+\n",
    "shit\n",
    "shitdick\n",
    "shite\n",
    "shited\n",
    "shitey\n",
    "shitfuck\n",
    "shitfull\n",
    "shithead\n",
    "shiting\n",
    "shitings\n",
    "shits\n",
    "shitted\n",
    "shitter\n",
    "shitters \n",
    "shitting\n",
    "shittings\n",
    "shitty \n",
    "skank\n",
    "slut\n",
    "sluts\n",
    "smegma\n",
    "smut\n",
    "snatch\n",
    "son-of-a-bitch\n",
    "spac\n",
    "spunk\n",
    "s_h_i_t\n",
    "t1tt1e5\n",
    "t1tties\n",
    "teets\n",
    "teez\n",
    "testical\n",
    "testicle\n",
    "tit\n",
    "titfuck\n",
    "tits\n",
    "titt\n",
    "tittie5\n",
    "tittiefucker\n",
    "titties\n",
    "tittyfuck\n",
    "tittywank\n",
    "titwank\n",
    "tosser\n",
    "turd\n",
    "tw4t\n",
    "twat\n",
    "twathead\n",
    "twatty\n",
    "twunt\n",
    "twunter\n",
    "v14gra\n",
    "v1gra\n",
    "vagina\n",
    "viagra\n",
    "vulva\n",
    "w00se\n",
    "wang\n",
    "wank\n",
    "wanker\n",
    "wanky\n",
    "whoar\n",
    "whore\n",
    "willies\n",
    "willy\n",
    "xrated\n",
    "xxx\n",
    "'''\n",
    "#List comprehension to identify the swear words in the paragraph.\n",
    "print([i for i in paragraph.split() for j in a.split() if i == j])"
   ]
  },
  {
   "cell_type": "markdown",
   "metadata": {},
   "source": [
    "Using list comprehension (and zip/lambda/etc if required) write expressions that\n",
    "1.strips every vowel from a string provided"
   ]
  },
  {
   "cell_type": "code",
   "execution_count": 230,
   "metadata": {},
   "outputs": [],
   "source": [
    "def strip_vowel(string= 'tsai') -> str:\n",
    "    '''Input a string character, the function will identify vowles and strip them.\n",
    "    '''\n",
    "    vowels=['a','e','i','o','u'] #predefined vowels in the list\n",
    "    output = [i for i in string if i.lower() not in vowels] #using list comprehension to ge the job done\n",
    "    return(f\"The string without vowles is: {''.join(output)}\")"
   ]
  },
  {
   "cell_type": "code",
   "execution_count": 231,
   "metadata": {},
   "outputs": [
    {
     "data": {
      "text/plain": [
       "'The string without vowles is: ts'"
      ]
     },
     "execution_count": 231,
     "metadata": {},
     "output_type": "execute_result"
    }
   ],
   "source": [
    "strip_vowel()"
   ]
  },
  {
   "cell_type": "markdown",
   "metadata": {},
   "source": [
    "Using list comprehension (and zip/lambda/etc if required) write expressions that:add 2 iterables a and b such that a is even and b is odd"
   ]
  },
  {
   "cell_type": "code",
   "execution_count": 232,
   "metadata": {},
   "outputs": [],
   "source": [
    "def add_iterables(x:int,y:int):\n",
    "    \n",
    "    '''Function takes an input of two lists of same ranges\n",
    "    #step 1 - creates a even_list with all the even numbers\n",
    "    #step 2 - creates a odd_list with all odd numbers\n",
    "    #output - using list comprehension it sums the two lists'''\n",
    "    \n",
    "    l1 = range(0, x)\n",
    "    l2 = range(0, y)\n",
    "    \n",
    "    even_list=[]\n",
    "    [even_list.append(i) for i in l1 if i % 2 == 0]\n",
    "    #print(even_list)\n",
    "    odd_list = []\n",
    "    [odd_list.append(i) for i in l2 if i %2 !=0]\n",
    "    #print(odd_list)\n",
    "    \n",
    "    return (f'The sum of even and odd are: {[x + y for x, y in zip(even_list, odd_list)]}')"
   ]
  },
  {
   "cell_type": "code",
   "execution_count": 233,
   "metadata": {},
   "outputs": [
    {
     "data": {
      "text/plain": [
       "'The sum of even and odd are: [1, 5, 9, 13, 17, 21, 25]'"
      ]
     },
     "execution_count": 233,
     "metadata": {},
     "output_type": "execute_result"
    }
   ],
   "source": [
    "add_iterables(15,15)"
   ]
  },
  {
   "cell_type": "markdown",
   "metadata": {},
   "source": [
    "Takes a small character string and shifts all characters by 5 "
   ]
  },
  {
   "cell_type": "code",
   "execution_count": 234,
   "metadata": {},
   "outputs": [
    {
     "data": {
      "text/plain": [
       "'yxfn'"
      ]
     },
     "execution_count": 234,
     "metadata": {},
     "output_type": "execute_result"
    }
   ],
   "source": [
    "shift = lambda inString, inOffset: \"\".join([chr(ord(x) + inOffset) for x in inString])\n",
    "\n",
    "#Ord converts a string into ASCII character number\n",
    "#chr converts the ASCII character value back to string\n",
    "shift('tsai',5)"
   ]
  },
  {
   "cell_type": "markdown",
   "metadata": {},
   "source": [
    "Using randint, random.choice and list comprehensions, write an expression that generates 15 random KADDAADDDD number plates, where KA is fixed, D stands for a digit, and A stands for Capital alphabets. 10<<DD<<99 & 1000<<DDDD<<9999"
   ]
  },
  {
   "cell_type": "code",
   "execution_count": 235,
   "metadata": {},
   "outputs": [],
   "source": [
    "import random\n",
    "\n",
    "def generate_num_plate(a,b) -> 'Input two positive integers':\n",
    "    \n",
    "    '''Input two positive integers a, b which defines the range of the values\n",
    "    #Preefined letters list from A to Z\n",
    "    #Using List Comprehension, generate random KA number plates based on the ranges given'''\n",
    "    \n",
    "    letters = 'ABCDEFGHIJKLMNOPQRSTUVWXYZ'\n",
    "    return ['KA'+ '-' + str(x) + '-' + (random.choice(letters) + random.choice(letters)) + '-' +str(y) for x in range(0,a) for y in range(1000,b)]"
   ]
  },
  {
   "cell_type": "code",
   "execution_count": 236,
   "metadata": {},
   "outputs": [
    {
     "data": {
      "text/plain": [
       "['KA-0-EN-1000',\n",
       " 'KA-0-ND-1001',\n",
       " 'KA-0-RN-1002',\n",
       " 'KA-0-EK-1003',\n",
       " 'KA-0-QB-1004',\n",
       " 'KA-1-KL-1000',\n",
       " 'KA-1-MN-1001',\n",
       " 'KA-1-FV-1002',\n",
       " 'KA-1-SI-1003',\n",
       " 'KA-1-PP-1004',\n",
       " 'KA-2-RG-1000',\n",
       " 'KA-2-JP-1001',\n",
       " 'KA-2-VF-1002',\n",
       " 'KA-2-MB-1003',\n",
       " 'KA-2-BE-1004',\n",
       " 'KA-3-CQ-1000',\n",
       " 'KA-3-RK-1001',\n",
       " 'KA-3-KB-1002',\n",
       " 'KA-3-RU-1003',\n",
       " 'KA-3-ZO-1004',\n",
       " 'KA-4-QZ-1000',\n",
       " 'KA-4-OK-1001',\n",
       " 'KA-4-OM-1002',\n",
       " 'KA-4-AF-1003',\n",
       " 'KA-4-UI-1004']"
      ]
     },
     "execution_count": 236,
     "metadata": {},
     "output_type": "execute_result"
    }
   ],
   "source": [
    "generate_num_plate(5,1005)"
   ]
  },
  {
   "cell_type": "code",
   "execution_count": null,
   "metadata": {},
   "outputs": [],
   "source": []
  }
 ],
 "metadata": {
  "kernelspec": {
   "display_name": "Python 3",
   "language": "python",
   "name": "python3"
  },
  "language_info": {
   "codemirror_mode": {
    "name": "ipython",
    "version": 3
   },
   "file_extension": ".py",
   "mimetype": "text/x-python",
   "name": "python",
   "nbconvert_exporter": "python",
   "pygments_lexer": "ipython3",
   "version": "3.7.6"
  }
 },
 "nbformat": 4,
 "nbformat_minor": 4
}
